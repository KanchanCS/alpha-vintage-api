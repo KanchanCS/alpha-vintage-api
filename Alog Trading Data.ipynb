{
 "cells": [
  {
   "cell_type": "code",
   "execution_count": 1,
   "id": "2263c59e",
   "metadata": {},
   "outputs": [],
   "source": [
    "api_key=\"HM2SD5G639ZKS5ZW\"\n",
    "import pandas as pd\n",
    "from alpha_vantage.timeseries import TimeSeries\n",
    "import matplotlib.pyplot as plt"
   ]
  },
  {
   "cell_type": "code",
   "execution_count": 2,
   "id": "4772ec7b",
   "metadata": {},
   "outputs": [],
   "source": [
    "\n",
    "\n",
    "class ScriptData:\n",
    "    def __init__(self, api_key):\n",
    "        self.api_key = api_key\n",
    "        self.ts = TimeSeries(key=api_key, output_format='pandas')\n",
    "\n",
    "    def fetch_intraday_data(self, script):\n",
    "        self.data, self.meta_data = self.ts.get_intraday(symbol=script, interval='1min')\n",
    "\n",
    "    def convert_intraday_data(self, script):\n",
    "        self.fetch_intraday_data(script)\n",
    "        self.data.columns = ['open', 'high', 'low', 'close', 'volume']\n",
    "        self.data.index.names = ['timestamp']\n",
    "        self.data.index = pd.to_datetime(self.data.index)\n",
    "        return self.data\n",
    "\n",
    "    def __getitem__(self, key):\n",
    "        return self.data.__getitem__(key)\n",
    "\n",
    "    def __setitem__(self, key, value):\n",
    "        return self.data.__setitem__(key, value)\n",
    "\n",
    "    def __contains__(self, item):\n",
    "        return self.data.__contains__(item)\n",
    "\n"
   ]
  },
  {
   "cell_type": "code",
   "execution_count": 3,
   "id": "8e413a7e",
   "metadata": {},
   "outputs": [],
   "source": [
    "script_data=ScriptData(api_key)"
   ]
  },
  {
   "cell_type": "code",
   "execution_count": 4,
   "id": "102ab183",
   "metadata": {},
   "outputs": [
    {
     "data": {
      "text/html": [
       "<div>\n",
       "<style scoped>\n",
       "    .dataframe tbody tr th:only-of-type {\n",
       "        vertical-align: middle;\n",
       "    }\n",
       "\n",
       "    .dataframe tbody tr th {\n",
       "        vertical-align: top;\n",
       "    }\n",
       "\n",
       "    .dataframe thead th {\n",
       "        text-align: right;\n",
       "    }\n",
       "</style>\n",
       "<table border=\"1\" class=\"dataframe\">\n",
       "  <thead>\n",
       "    <tr style=\"text-align: right;\">\n",
       "      <th></th>\n",
       "      <th>open</th>\n",
       "      <th>high</th>\n",
       "      <th>low</th>\n",
       "      <th>close</th>\n",
       "      <th>volume</th>\n",
       "    </tr>\n",
       "    <tr>\n",
       "      <th>timestamp</th>\n",
       "      <th></th>\n",
       "      <th></th>\n",
       "      <th></th>\n",
       "      <th></th>\n",
       "      <th></th>\n",
       "    </tr>\n",
       "  </thead>\n",
       "  <tbody>\n",
       "    <tr>\n",
       "      <th>2023-02-15 20:00:00</th>\n",
       "      <td>97.10</td>\n",
       "      <td>97.11</td>\n",
       "      <td>97.10</td>\n",
       "      <td>97.10</td>\n",
       "      <td>1470.0</td>\n",
       "    </tr>\n",
       "    <tr>\n",
       "      <th>2023-02-15 19:59:00</th>\n",
       "      <td>97.12</td>\n",
       "      <td>97.12</td>\n",
       "      <td>97.12</td>\n",
       "      <td>97.12</td>\n",
       "      <td>684.0</td>\n",
       "    </tr>\n",
       "    <tr>\n",
       "      <th>2023-02-15 19:58:00</th>\n",
       "      <td>97.12</td>\n",
       "      <td>97.12</td>\n",
       "      <td>97.12</td>\n",
       "      <td>97.12</td>\n",
       "      <td>1298.0</td>\n",
       "    </tr>\n",
       "    <tr>\n",
       "      <th>2023-02-15 19:57:00</th>\n",
       "      <td>97.10</td>\n",
       "      <td>97.12</td>\n",
       "      <td>97.10</td>\n",
       "      <td>97.12</td>\n",
       "      <td>1047.0</td>\n",
       "    </tr>\n",
       "    <tr>\n",
       "      <th>2023-02-15 19:56:00</th>\n",
       "      <td>97.12</td>\n",
       "      <td>97.12</td>\n",
       "      <td>97.10</td>\n",
       "      <td>97.10</td>\n",
       "      <td>806.0</td>\n",
       "    </tr>\n",
       "    <tr>\n",
       "      <th>...</th>\n",
       "      <td>...</td>\n",
       "      <td>...</td>\n",
       "      <td>...</td>\n",
       "      <td>...</td>\n",
       "      <td>...</td>\n",
       "    </tr>\n",
       "    <tr>\n",
       "      <th>2023-02-15 18:01:00</th>\n",
       "      <td>96.90</td>\n",
       "      <td>96.95</td>\n",
       "      <td>96.89</td>\n",
       "      <td>96.94</td>\n",
       "      <td>6472.0</td>\n",
       "    </tr>\n",
       "    <tr>\n",
       "      <th>2023-02-15 18:00:00</th>\n",
       "      <td>96.90</td>\n",
       "      <td>96.90</td>\n",
       "      <td>96.90</td>\n",
       "      <td>96.90</td>\n",
       "      <td>585.0</td>\n",
       "    </tr>\n",
       "    <tr>\n",
       "      <th>2023-02-15 17:59:00</th>\n",
       "      <td>96.90</td>\n",
       "      <td>96.91</td>\n",
       "      <td>96.90</td>\n",
       "      <td>96.91</td>\n",
       "      <td>760.0</td>\n",
       "    </tr>\n",
       "    <tr>\n",
       "      <th>2023-02-15 17:58:00</th>\n",
       "      <td>96.93</td>\n",
       "      <td>96.93</td>\n",
       "      <td>96.93</td>\n",
       "      <td>96.93</td>\n",
       "      <td>122.0</td>\n",
       "    </tr>\n",
       "    <tr>\n",
       "      <th>2023-02-15 17:57:00</th>\n",
       "      <td>96.93</td>\n",
       "      <td>96.93</td>\n",
       "      <td>96.93</td>\n",
       "      <td>96.93</td>\n",
       "      <td>146.0</td>\n",
       "    </tr>\n",
       "  </tbody>\n",
       "</table>\n",
       "<p>100 rows × 5 columns</p>\n",
       "</div>"
      ],
      "text/plain": [
       "                      open   high    low  close  volume\n",
       "timestamp                                              \n",
       "2023-02-15 20:00:00  97.10  97.11  97.10  97.10  1470.0\n",
       "2023-02-15 19:59:00  97.12  97.12  97.12  97.12   684.0\n",
       "2023-02-15 19:58:00  97.12  97.12  97.12  97.12  1298.0\n",
       "2023-02-15 19:57:00  97.10  97.12  97.10  97.12  1047.0\n",
       "2023-02-15 19:56:00  97.12  97.12  97.10  97.10   806.0\n",
       "...                    ...    ...    ...    ...     ...\n",
       "2023-02-15 18:01:00  96.90  96.95  96.89  96.94  6472.0\n",
       "2023-02-15 18:00:00  96.90  96.90  96.90  96.90   585.0\n",
       "2023-02-15 17:59:00  96.90  96.91  96.90  96.91   760.0\n",
       "2023-02-15 17:58:00  96.93  96.93  96.93  96.93   122.0\n",
       "2023-02-15 17:57:00  96.93  96.93  96.93  96.93   146.0\n",
       "\n",
       "[100 rows x 5 columns]"
      ]
     },
     "execution_count": 4,
     "metadata": {},
     "output_type": "execute_result"
    }
   ],
   "source": [
    "script_data.fetch_intraday_data(\"GOOGl\")\n",
    "script_data.convert_intraday_data(\"GOOGL\")"
   ]
  },
  {
   "cell_type": "code",
   "execution_count": 5,
   "id": "73a4c0bf",
   "metadata": {},
   "outputs": [],
   "source": [
    "def indicator1(df, timeperiod):\n",
    "    indicator_data = pd.DataFrame({'timestamp': df.index, \n",
    "    'indicator': df['close'].rolling(window=timeperiod).mean()})\n",
    "    return indicator_data"
   ]
  },
  {
   "cell_type": "code",
   "execution_count": 6,
   "id": "bc49da18",
   "metadata": {},
   "outputs": [
    {
     "data": {
      "text/html": [
       "<div>\n",
       "<style scoped>\n",
       "    .dataframe tbody tr th:only-of-type {\n",
       "        vertical-align: middle;\n",
       "    }\n",
       "\n",
       "    .dataframe tbody tr th {\n",
       "        vertical-align: top;\n",
       "    }\n",
       "\n",
       "    .dataframe thead th {\n",
       "        text-align: right;\n",
       "    }\n",
       "</style>\n",
       "<table border=\"1\" class=\"dataframe\">\n",
       "  <thead>\n",
       "    <tr style=\"text-align: right;\">\n",
       "      <th></th>\n",
       "      <th>timestamp</th>\n",
       "      <th>indicator</th>\n",
       "    </tr>\n",
       "    <tr>\n",
       "      <th>timestamp</th>\n",
       "      <th></th>\n",
       "      <th></th>\n",
       "    </tr>\n",
       "  </thead>\n",
       "  <tbody>\n",
       "    <tr>\n",
       "      <th>2023-02-15 20:00:00</th>\n",
       "      <td>2023-02-15 20:00:00</td>\n",
       "      <td>NaN</td>\n",
       "    </tr>\n",
       "    <tr>\n",
       "      <th>2023-02-15 19:59:00</th>\n",
       "      <td>2023-02-15 19:59:00</td>\n",
       "      <td>NaN</td>\n",
       "    </tr>\n",
       "    <tr>\n",
       "      <th>2023-02-15 19:58:00</th>\n",
       "      <td>2023-02-15 19:58:00</td>\n",
       "      <td>NaN</td>\n",
       "    </tr>\n",
       "    <tr>\n",
       "      <th>2023-02-15 19:57:00</th>\n",
       "      <td>2023-02-15 19:57:00</td>\n",
       "      <td>NaN</td>\n",
       "    </tr>\n",
       "    <tr>\n",
       "      <th>2023-02-15 19:56:00</th>\n",
       "      <td>2023-02-15 19:56:00</td>\n",
       "      <td>97.112</td>\n",
       "    </tr>\n",
       "    <tr>\n",
       "      <th>...</th>\n",
       "      <td>...</td>\n",
       "      <td>...</td>\n",
       "    </tr>\n",
       "    <tr>\n",
       "      <th>2023-02-15 18:01:00</th>\n",
       "      <td>2023-02-15 18:01:00</td>\n",
       "      <td>96.954</td>\n",
       "    </tr>\n",
       "    <tr>\n",
       "      <th>2023-02-15 18:00:00</th>\n",
       "      <td>2023-02-15 18:00:00</td>\n",
       "      <td>96.940</td>\n",
       "    </tr>\n",
       "    <tr>\n",
       "      <th>2023-02-15 17:59:00</th>\n",
       "      <td>2023-02-15 17:59:00</td>\n",
       "      <td>96.930</td>\n",
       "    </tr>\n",
       "    <tr>\n",
       "      <th>2023-02-15 17:58:00</th>\n",
       "      <td>2023-02-15 17:58:00</td>\n",
       "      <td>96.928</td>\n",
       "    </tr>\n",
       "    <tr>\n",
       "      <th>2023-02-15 17:57:00</th>\n",
       "      <td>2023-02-15 17:57:00</td>\n",
       "      <td>96.922</td>\n",
       "    </tr>\n",
       "  </tbody>\n",
       "</table>\n",
       "<p>100 rows × 2 columns</p>\n",
       "</div>"
      ],
      "text/plain": [
       "                              timestamp  indicator\n",
       "timestamp                                         \n",
       "2023-02-15 20:00:00 2023-02-15 20:00:00        NaN\n",
       "2023-02-15 19:59:00 2023-02-15 19:59:00        NaN\n",
       "2023-02-15 19:58:00 2023-02-15 19:58:00        NaN\n",
       "2023-02-15 19:57:00 2023-02-15 19:57:00        NaN\n",
       "2023-02-15 19:56:00 2023-02-15 19:56:00     97.112\n",
       "...                                 ...        ...\n",
       "2023-02-15 18:01:00 2023-02-15 18:01:00     96.954\n",
       "2023-02-15 18:00:00 2023-02-15 18:00:00     96.940\n",
       "2023-02-15 17:59:00 2023-02-15 17:59:00     96.930\n",
       "2023-02-15 17:58:00 2023-02-15 17:58:00     96.928\n",
       "2023-02-15 17:57:00 2023-02-15 17:57:00     96.922\n",
       "\n",
       "[100 rows x 2 columns]"
      ]
     },
     "execution_count": 6,
     "metadata": {},
     "output_type": "execute_result"
    }
   ],
   "source": [
    "df = pd.DataFrame(script_data.convert_intraday_data(\"GOOGL\"))\n",
    "indicator1(df, 5)"
   ]
  },
  {
   "cell_type": "code",
   "execution_count": 7,
   "id": "d14fe79f",
   "metadata": {},
   "outputs": [],
   "source": [
    "ts = TimeSeries(key=api_key, output_format='pandas')\n",
    "symbol = 'AAPL'\n",
    "data, _ = ts.get_daily_adjusted(symbol, outputsize='full')"
   ]
  },
  {
   "cell_type": "code",
   "execution_count": 24,
   "id": "e32d0b7f",
   "metadata": {},
   "outputs": [
    {
     "data": {
      "image/png": "[encoded data removed]",
      "text/plain": [
       "<Figure size 640x480 with 1 Axes>"
      ]
     },
     "metadata": {},
     "output_type": "display_data"
    }
   ],
   "source": [
    "data, meta_data = ts.get_intraday(symbol='GOOGL',interval='1min', outputsize='full')\n",
    "data['4. close'].plot()\n",
    "plt.title('Intraday Times Series for the Googl stock (1 min)')\n",
    "plt.show()"
   ]
  },
  {
   "cell_type": "code",
   "execution_count": 20,
   "id": "63568d47",
   "metadata": {},
   "outputs": [],
   "source": [
    "df = script_data.convert_intraday_data(\"NVDA\")"
   ]
  },
  {
   "cell_type": "code",
   "execution_count": 21,
   "id": "99765551",
   "metadata": {},
   "outputs": [],
   "source": [
    "close_data = df['close']"
   ]
  },
  {
   "cell_type": "code",
   "execution_count": 22,
   "id": "081c8676",
   "metadata": {},
   "outputs": [],
   "source": [
    "timeperiod = 10\n",
    "indicator_data = indicator1(df[['close']], timeperiod)"
   ]
  },
  {
   "cell_type": "code",
   "execution_count": 23,
   "id": "02c15230",
   "metadata": {},
   "outputs": [
    {
     "data": {
      "text/plain": [
       "timestamp\n",
       "2023-02-15 20:00:00          NaN\n",
       "2023-02-15 19:59:00          NaN\n",
       "2023-02-15 19:58:00          NaN\n",
       "2023-02-15 19:56:00          NaN\n",
       "2023-02-15 19:54:00          NaN\n",
       "                         ...    \n",
       "2023-02-15 17:24:00    227.51188\n",
       "2023-02-15 17:23:00    227.50088\n",
       "2023-02-15 17:21:00    227.48088\n",
       "2023-02-15 17:20:00    227.46319\n",
       "2023-02-15 17:15:00    227.43719\n",
       "Name: indicator, Length: 100, dtype: float64"
      ]
     },
     "execution_count": 23,
     "metadata": {},
     "output_type": "execute_result"
    }
   ],
   "source": [
    "indicator_data['indicator']"
   ]
  },
  {
   "cell_type": "code",
   "execution_count": 24,
   "id": "1a487cf7",
   "metadata": {},
   "outputs": [],
   "source": [
    "signals = pd.DataFrame({'timestamp': df.index})\n"
   ]
  },
  {
   "cell_type": "code",
   "execution_count": 25,
   "id": "51337523",
   "metadata": {},
   "outputs": [],
   "source": [
    "signals['signal'] = 'NO_SIGNAL'\n"
   ]
  },
  {
   "cell_type": "code",
   "execution_count": 60,
   "id": "ec6d85d9",
   "metadata": {},
   "outputs": [
    {
     "name": "stdout",
     "output_type": "stream",
     "text": [
      "Length of signals: 100\n",
      "Length of indicator_data: 100\n",
      "Length of close_data: 100\n",
      "Length of signals: 100\n",
      "Length of indicator_data: 100\n",
      "Length of close_data: 100\n"
     ]
    }
   ],
   "source": [
    "print(f\"Length of signals: {len(signals)}\")\n",
    "print(f\"Length of indicator_data: {len(indicator_data)}\")\n",
    "print(f\"Length of close_data: {len(close_data)}\")\n",
    "\n",
    "for i, row in signals.iterrows():\n",
    "    if i > 0:\n",
    "        if indicator_data.iloc[i] > close_data.iloc[i] and indicator_data.iloc[i-1] <= close_data.iloc[i-1]['close']:\n",
    "            signals.at[i, 'signal'] = 'BUY'\n",
    "        elif indicator_data.iloc[i] < close_data.iloc[i]and indicator_data.iloc[i-1] >= close_data.iloc[i-1]['close']:\n",
    "            signals.at[i, 'signal'] = 'SELL'\n",
    "\n",
    "print(f\"Length of signals: {len(signals)}\")\n",
    "print(f\"Length of indicator_data: {len(indicator_data)}\")\n",
    "print(f\"Length of close_data: {len(close_data)}\")\n",
    "\n",
    "\n",
    "for i, row in signals.iterrows():\n",
    "    if i == 0:\n",
    "        signals.at[i, 'signal'] = 'NO_SIGNAL'\n",
    "    elif indicator_data.iloc[i] > close_data.iloc[i] and indicator_data.iloc[i-1] <= close_data.iloc[i-1]:\n",
    "        signals.at[i, 'signal'] = 'BUY'\n",
    "    elif indicator_data.iloc[i] < close_data.iloc[i] and indicator_data.iloc[i-1] >= close_data.iloc[i-1]:\n",
    "        signals.at[i, 'signal'] = 'SELL'\n",
    "    else:\n",
    "        signals.at[i, 'signal'] = 'NO_SIGNAL'\n",
    "\n",
    "\n"
   ]
  }
 ],
 "metadata": {
  "kernelspec": {
   "display_name": "Python 3 (ipykernel)",
   "language": "python",
   "name": "python3"
  },
  "language_info": {
   "codemirror_mode": {
    "name": "ipython",
    "version": 3
   },
   "file_extension": ".py",
   "mimetype": "text/x-python",
   "name": "python",
   "nbconvert_exporter": "python",
   "pygments_lexer": "ipython3",
   "version": "3.10.7"
  }
 },
 "nbformat": 4,
 "nbformat_minor": 5
}
